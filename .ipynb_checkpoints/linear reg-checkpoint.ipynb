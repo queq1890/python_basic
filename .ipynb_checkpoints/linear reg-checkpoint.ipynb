{
 "cells": [
  {
   "cell_type": "code",
   "execution_count": 2,
   "metadata": {
    "collapsed": true
   },
   "outputs": [],
   "source": [
    "import pandas as pd\n",
    "house = pd.read_csv('https://raw.githubusercontent.com/we-b/datasets_for_ai/master/cal_house.csv')\n"
   ]
  },
  {
   "cell_type": "code",
   "execution_count": 3,
   "metadata": {
    "collapsed": false
   },
   "outputs": [
    {
     "data": {
      "text/html": [
       "<div>\n",
       "<table border=\"1\" class=\"dataframe\">\n",
       "  <thead>\n",
       "    <tr style=\"text-align: right;\">\n",
       "      <th></th>\n",
       "      <th>housing_median_age</th>\n",
       "      <th>total_rooms</th>\n",
       "      <th>total_bedrooms</th>\n",
       "      <th>population</th>\n",
       "      <th>households</th>\n",
       "      <th>median_income</th>\n",
       "      <th>median_house_value</th>\n",
       "    </tr>\n",
       "  </thead>\n",
       "  <tbody>\n",
       "    <tr>\n",
       "      <th>0</th>\n",
       "      <td>41</td>\n",
       "      <td>880</td>\n",
       "      <td>129</td>\n",
       "      <td>322</td>\n",
       "      <td>126</td>\n",
       "      <td>8.3252</td>\n",
       "      <td>45.26</td>\n",
       "    </tr>\n",
       "    <tr>\n",
       "      <th>1</th>\n",
       "      <td>21</td>\n",
       "      <td>7099</td>\n",
       "      <td>1106</td>\n",
       "      <td>2401</td>\n",
       "      <td>1138</td>\n",
       "      <td>8.3014</td>\n",
       "      <td>35.85</td>\n",
       "    </tr>\n",
       "    <tr>\n",
       "      <th>2</th>\n",
       "      <td>52</td>\n",
       "      <td>1467</td>\n",
       "      <td>190</td>\n",
       "      <td>496</td>\n",
       "      <td>177</td>\n",
       "      <td>7.2574</td>\n",
       "      <td>35.21</td>\n",
       "    </tr>\n",
       "    <tr>\n",
       "      <th>3</th>\n",
       "      <td>52</td>\n",
       "      <td>1274</td>\n",
       "      <td>235</td>\n",
       "      <td>558</td>\n",
       "      <td>219</td>\n",
       "      <td>5.6431</td>\n",
       "      <td>34.13</td>\n",
       "    </tr>\n",
       "    <tr>\n",
       "      <th>4</th>\n",
       "      <td>52</td>\n",
       "      <td>1627</td>\n",
       "      <td>280</td>\n",
       "      <td>565</td>\n",
       "      <td>259</td>\n",
       "      <td>3.8462</td>\n",
       "      <td>34.22</td>\n",
       "    </tr>\n",
       "  </tbody>\n",
       "</table>\n",
       "</div>"
      ],
      "text/plain": [
       "   housing_median_age  total_rooms  total_bedrooms  population  households  \\\n",
       "0                  41          880             129         322         126   \n",
       "1                  21         7099            1106        2401        1138   \n",
       "2                  52         1467             190         496         177   \n",
       "3                  52         1274             235         558         219   \n",
       "4                  52         1627             280         565         259   \n",
       "\n",
       "   median_income  median_house_value  \n",
       "0         8.3252               45.26  \n",
       "1         8.3014               35.85  \n",
       "2         7.2574               35.21  \n",
       "3         5.6431               34.13  \n",
       "4         3.8462               34.22  "
      ]
     },
     "execution_count": 3,
     "metadata": {},
     "output_type": "execute_result"
    }
   ],
   "source": [
    "house.head()"
   ]
  },
  {
   "cell_type": "code",
   "execution_count": 5,
   "metadata": {
    "collapsed": false
   },
   "outputs": [
    {
     "data": {
      "text/plain": [
       "(1000, 7)"
      ]
     },
     "execution_count": 5,
     "metadata": {},
     "output_type": "execute_result"
    }
   ],
   "source": [
    "house.shape"
   ]
  },
  {
   "cell_type": "code",
   "execution_count": 8,
   "metadata": {
    "collapsed": false
   },
   "outputs": [
    {
     "name": "stdout",
     "output_type": "stream",
     "text": [
      "(1000, 6)\n",
      "(1000,)\n",
      "     housing_median_age  total_rooms  total_bedrooms  population  households  \\\n",
      "0                    41          880             129         322         126   \n",
      "1                    21         7099            1106        2401        1138   \n",
      "2                    52         1467             190         496         177   \n",
      "3                    52         1274             235         558         219   \n",
      "4                    52         1627             280         565         259   \n",
      "5                    52          919             213         413         193   \n",
      "6                    52         2535             489        1094         514   \n",
      "7                    52         3104             687        1157         647   \n",
      "8                    42         2555             665        1206         595   \n",
      "9                    52         3549             707        1551         714   \n",
      "10                   52         2202             434         910         402   \n",
      "11                   52         3503             752        1504         734   \n",
      "12                   52         2491             474        1098         468   \n",
      "13                   52          696             191         345         174   \n",
      "14                   52         2643             626        1212         620   \n",
      "15                   50         1120             283         697         264   \n",
      "16                   52         1966             347         793         331   \n",
      "17                   52         1228             293         648         303   \n",
      "18                   50         2239             455         990         419   \n",
      "19                   52         1503             298         690         275   \n",
      "20                   40          751             184         409         166   \n",
      "21                   42         1639             367         929         366   \n",
      "22                   52         2436             541        1015         478   \n",
      "23                   52         1688             337         853         325   \n",
      "24                   52         2224             437        1006         422   \n",
      "25                   41          535             123         317         119   \n",
      "26                   49         1130             244         607         239   \n",
      "27                   52         1898             421        1102         397   \n",
      "28                   50         2082             492        1131         473   \n",
      "29                   52          729             160         395         155   \n",
      "..                  ...          ...             ...         ...         ...   \n",
      "970                  19         2034             288         852         295   \n",
      "971                  15         2130             273         876         285   \n",
      "972                   7         9540            1294        3926        1229   \n",
      "973                  29         2702             680        1360         642   \n",
      "974                  39          522             116         161         102   \n",
      "975                  52          775             134         315         123   \n",
      "976                   3         1565             464         769         461   \n",
      "977                  20         1309             184         514         172   \n",
      "978                  13         5519             833        2444         825   \n",
      "979                  10         4337             800        1813         743   \n",
      "980                  28         1812             294         853         278   \n",
      "981                   4         4719             741        1895         742   \n",
      "982                  14         4236             701        1833         663   \n",
      "983                  22         3634             664        1699         640   \n",
      "984                  27         1569             242         583         214   \n",
      "985                  13        13182            2074        4847        1950   \n",
      "986                  43          228              40          83          42   \n",
      "987                  47          127              23          51          21   \n",
      "988                  13         9621            1344        4389        1391   \n",
      "989                   4         6159            1510        2649        1241   \n",
      "990                  16         4290             554        1952         576   \n",
      "991                  26         1786             306         771         279   \n",
      "992                  32          404              74         144          58   \n",
      "993                  17         1671             352         729         252   \n",
      "994                  12         5608            1049        2595        1067   \n",
      "995                  11        12070            2220        5826        2125   \n",
      "996                  25          494              81         254          85   \n",
      "997                  22         5533             943        2474         910   \n",
      "998                  17         3956             639        2222         662   \n",
      "999                  12         1906             351         802         319   \n",
      "\n",
      "     median_income  \n",
      "0           8.3252  \n",
      "1           8.3014  \n",
      "2           7.2574  \n",
      "3           5.6431  \n",
      "4           3.8462  \n",
      "5           4.0368  \n",
      "6           3.6591  \n",
      "7           3.1200  \n",
      "8           2.0804  \n",
      "9           3.6912  \n",
      "10          3.2031  \n",
      "11          3.2705  \n",
      "12          3.0750  \n",
      "13          2.6736  \n",
      "14          1.9167  \n",
      "15          2.1250  \n",
      "16          2.7750  \n",
      "17          2.1202  \n",
      "18          1.9911  \n",
      "19          2.6033  \n",
      "20          1.3578  \n",
      "21          1.7135  \n",
      "22          1.7250  \n",
      "23          2.1806  \n",
      "24          2.6000  \n",
      "25          2.4038  \n",
      "26          2.4597  \n",
      "27          1.8080  \n",
      "28          1.6424  \n",
      "29          1.6875  \n",
      "..             ...  \n",
      "970         6.5285  \n",
      "971         7.2639  \n",
      "972         7.4353  \n",
      "973         3.1127  \n",
      "974         2.4896  \n",
      "975         5.0677  \n",
      "976         2.1187  \n",
      "977        10.9506  \n",
      "978         7.0691  \n",
      "979         5.5000  \n",
      "980         4.9879  \n",
      "981         6.8132  \n",
      "982         5.6399  \n",
      "983         4.1597  \n",
      "984         5.7519  \n",
      "985         5.6417  \n",
      "986        10.3203  \n",
      "987         4.3472  \n",
      "988         6.6827  \n",
      "989         3.6200  \n",
      "990         7.3588  \n",
      "991         5.7239  \n",
      "992         4.2083  \n",
      "993         6.1023  \n",
      "994         3.9864  \n",
      "995         4.8624  \n",
      "996         9.1531  \n",
      "997         4.7361  \n",
      "998         5.4324  \n",
      "999         4.9375  \n",
      "\n",
      "[1000 rows x 6 columns]\n",
      "0      45.26\n",
      "1      35.85\n",
      "2      35.21\n",
      "3      34.13\n",
      "4      34.22\n",
      "5      26.97\n",
      "6      29.92\n",
      "7      24.14\n",
      "8      22.67\n",
      "9      26.11\n",
      "10     28.15\n",
      "11     24.18\n",
      "12     21.35\n",
      "13     19.13\n",
      "14     15.92\n",
      "15     14.00\n",
      "16     15.25\n",
      "17     15.55\n",
      "18     15.87\n",
      "19     16.29\n",
      "20     14.75\n",
      "21     15.98\n",
      "22     11.39\n",
      "23      9.97\n",
      "24     13.26\n",
      "25     10.75\n",
      "26      9.38\n",
      "27     10.55\n",
      "28     10.89\n",
      "29     13.20\n",
      "       ...  \n",
      "970    30.04\n",
      "971    33.24\n",
      "972    38.98\n",
      "973    23.30\n",
      "974    23.85\n",
      "975    23.33\n",
      "976    23.13\n",
      "977    47.58\n",
      "978    39.32\n",
      "979    24.72\n",
      "980    22.94\n",
      "981    28.25\n",
      "982    30.06\n",
      "983    29.32\n",
      "984    27.85\n",
      "985    35.29\n",
      "986    40.00\n",
      "987    37.50\n",
      "988    31.37\n",
      "989    13.93\n",
      "990    32.75\n",
      "991    43.06\n",
      "992    12.50\n",
      "993    45.00\n",
      "994    20.02\n",
      "995    19.24\n",
      "996    41.88\n",
      "997    21.68\n",
      "998    21.55\n",
      "999    22.77\n",
      "Name: median_house_value, dtype: float64\n"
     ]
    }
   ],
   "source": [
    "x = house[['housing_median_age', 'total_rooms', 'total_bedrooms', 'population', 'households', 'median_income']]\n",
    "y = house['median_house_value']\n",
    "\n",
    "print(x.shape)\n",
    "print(y.shape)\n",
    "print(x)\n",
    "print(y)"
   ]
  },
  {
   "cell_type": "code",
   "execution_count": 10,
   "metadata": {
    "collapsed": false
   },
   "outputs": [],
   "source": [
    "# トレーニングデータとテストデータの分割の為の関数をインストール\n",
    "from sklearn.cross_validation import train_test_split\n",
    "# トレーニングデータとテストデータを70%:30%の割合で分割\n",
    "x_train, x_test, y_train, y_test = train_test_split(x, y, test_size=0.3)\n"
   ]
  },
  {
   "cell_type": "code",
   "execution_count": 11,
   "metadata": {
    "collapsed": false
   },
   "outputs": [
    {
     "name": "stdout",
     "output_type": "stream",
     "text": [
      "(700, 6)\n",
      "(700,)\n",
      "(300, 6)\n",
      "(300,)\n"
     ]
    }
   ],
   "source": [
    "# トレーニングデータのshapeを確認\n",
    "print(x_train.shape)\n",
    "print(y_train.shape)\n",
    "# テストデータのshapeを確認\n",
    "print(x_test.shape)\n",
    "print(y_test.shape)\n"
   ]
  },
  {
   "cell_type": "code",
   "execution_count": 12,
   "metadata": {
    "collapsed": true
   },
   "outputs": [],
   "source": [
    "# 線形回帰モデルの読み込み\n",
    "from sklearn.linear_model import LinearRegression"
   ]
  },
  {
   "cell_type": "code",
   "execution_count": 13,
   "metadata": {
    "collapsed": true
   },
   "outputs": [],
   "source": [
    "# 線形回帰モデルをインスタンス化\n",
    "lr = LinearRegression()"
   ]
  },
  {
   "cell_type": "code",
   "execution_count": 16,
   "metadata": {
    "collapsed": false
   },
   "outputs": [
    {
     "data": {
      "text/plain": [
       "LinearRegression(copy_X=True, fit_intercept=True, n_jobs=1, normalize=False)"
      ]
     },
     "execution_count": 16,
     "metadata": {},
     "output_type": "execute_result"
    }
   ],
   "source": [
    "# トレーニングデータにもとづいて学習\n",
    "lr.fit(x_train, y_train)"
   ]
  },
  {
   "cell_type": "code",
   "execution_count": 17,
   "metadata": {
    "collapsed": false
   },
   "outputs": [
    {
     "name": "stdout",
     "output_type": "stream",
     "text": [
      "[  6.56269071e-02   6.09363383e-04   3.58652494e-03  -4.21785865e-03\n",
      "   6.69384024e-03   3.87339595e+00]\n",
      "2.31983708718\n"
     ]
    }
   ],
   "source": [
    " # 係数\n",
    "print(lr.coef_)\n",
    " # 切片 (誤差)\n",
    "print(lr.intercept_)"
   ]
  },
  {
   "cell_type": "code",
   "execution_count": 18,
   "metadata": {
    "collapsed": false
   },
   "outputs": [
    {
     "name": "stdout",
     "output_type": "stream",
     "text": [
      "0.65\n"
     ]
    }
   ],
   "source": [
    "print(round(lr.score(x_train, y_train), 2))"
   ]
  },
  {
   "cell_type": "code",
   "execution_count": null,
   "metadata": {
    "collapsed": true
   },
   "outputs": [],
   "source": []
  }
 ],
 "metadata": {
  "kernelspec": {
   "display_name": "Python 3",
   "language": "python",
   "name": "python3"
  },
  "language_info": {
   "codemirror_mode": {
    "name": "ipython",
    "version": 3
   },
   "file_extension": ".py",
   "mimetype": "text/x-python",
   "name": "python",
   "nbconvert_exporter": "python",
   "pygments_lexer": "ipython3",
   "version": "3.5.1"
  }
 },
 "nbformat": 4,
 "nbformat_minor": 0
}
